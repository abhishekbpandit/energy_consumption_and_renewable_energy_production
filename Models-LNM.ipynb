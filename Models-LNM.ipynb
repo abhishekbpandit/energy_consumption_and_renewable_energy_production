{
 "cells": [
  {
   "cell_type": "code",
   "execution_count": 38,
   "metadata": {
    "id": "SXRxJ5Bg-r49"
   },
   "outputs": [],
   "source": [
    "from scipy import stats\n",
    "from sklearn.preprocessing import StandardScaler\n",
    "from sklearn.model_selection import KFold, GridSearchCV, cross_val_score\n",
    "from sklearn.metrics import mean_squared_error\n",
    "from sklearn.svm import SVR\n",
    "from sklearn.ensemble import RandomForestRegressor\n",
    "from sklearn.tree import DecisionTreeRegressor\n",
    "\n",
    "import statsmodels.api as sm\n",
    "import xgboost as xgb\n",
    "\n",
    "import numpy as np\n",
    "import pandas as pd\n",
    "import matplotlib.pyplot as plt\n",
    "import seaborn as sns\n",
    "%matplotlib inline\n",
    "\n",
    "import warnings\n",
    "warnings.filterwarnings('ignore')"
   ]
  },
  {
   "cell_type": "code",
   "execution_count": 2,
   "metadata": {
    "id": "HXpq0MOr-r6-"
   },
   "outputs": [],
   "source": [
    "df = pd.read_csv('feature_engineered_df.csv')"
   ]
  },
  {
   "cell_type": "code",
   "execution_count": 3,
   "metadata": {
    "colab": {
     "base_uri": "https://localhost:8080/",
     "height": 348
    },
    "id": "mV7Ovvan-r8m",
    "outputId": "50578360-1985-4bbd-e391-6e49f36de1e1"
   },
   "outputs": [
    {
     "data": {
      "text/html": [
       "<div>\n",
       "<style scoped>\n",
       "    .dataframe tbody tr th:only-of-type {\n",
       "        vertical-align: middle;\n",
       "    }\n",
       "\n",
       "    .dataframe tbody tr th {\n",
       "        vertical-align: top;\n",
       "    }\n",
       "\n",
       "    .dataframe thead th {\n",
       "        text-align: right;\n",
       "    }\n",
       "</style>\n",
       "<table border=\"1\" class=\"dataframe\">\n",
       "  <thead>\n",
       "    <tr style=\"text-align: right;\">\n",
       "      <th></th>\n",
       "      <th>tmax</th>\n",
       "      <th>tmin</th>\n",
       "      <th>prcp</th>\n",
       "      <th>Total Energy Sales (MWh)</th>\n",
       "      <th>Total Customers</th>\n",
       "      <th>Gasoline Price</th>\n",
       "      <th>Coal Production</th>\n",
       "      <th>Natural Gas (Dry) Production</th>\n",
       "      <th>Crude Oil Production</th>\n",
       "      <th>Natural Gas Plant Liquids Production</th>\n",
       "      <th>...</th>\n",
       "      <th>Total Renewable Energy Production_lag1</th>\n",
       "      <th>Total Renewable Energy Production_lag2</th>\n",
       "      <th>Total Renewable Energy Production_lag3</th>\n",
       "      <th>Total Renewable Energy Production_rolling_mean3</th>\n",
       "      <th>Total Renewable Energy Production_rolling_mean6</th>\n",
       "      <th>Total Renewable Energy Production_rolling_mean12</th>\n",
       "      <th>energy_consumption_renewable_interaction</th>\n",
       "      <th>energy_consumption_traditional_interaction</th>\n",
       "      <th>energy_consumption_industrial_interaction</th>\n",
       "      <th>Energy Consumption PCA Component</th>\n",
       "    </tr>\n",
       "  </thead>\n",
       "  <tbody>\n",
       "    <tr>\n",
       "      <th>0</th>\n",
       "      <td>12.0</td>\n",
       "      <td>-6.0</td>\n",
       "      <td>0.01</td>\n",
       "      <td>2.233527e+09</td>\n",
       "      <td>87386416.0</td>\n",
       "      <td>1.114</td>\n",
       "      <td>1.759371</td>\n",
       "      <td>1.487280</td>\n",
       "      <td>1.099501</td>\n",
       "      <td>0.170481</td>\n",
       "      <td>...</td>\n",
       "      <td>NaN</td>\n",
       "      <td>NaN</td>\n",
       "      <td>NaN</td>\n",
       "      <td>NaN</td>\n",
       "      <td>NaN</td>\n",
       "      <td>NaN</td>\n",
       "      <td>1.060030e+09</td>\n",
       "      <td>1.008802e+10</td>\n",
       "      <td>1.498830e+11</td>\n",
       "      <td>712.139879</td>\n",
       "    </tr>\n",
       "    <tr>\n",
       "      <th>1</th>\n",
       "      <td>32.0</td>\n",
       "      <td>5.0</td>\n",
       "      <td>0.00</td>\n",
       "      <td>2.233527e+09</td>\n",
       "      <td>87386416.0</td>\n",
       "      <td>1.109</td>\n",
       "      <td>2.069239</td>\n",
       "      <td>1.665073</td>\n",
       "      <td>1.212863</td>\n",
       "      <td>0.192734</td>\n",
       "      <td>...</td>\n",
       "      <td>0.474599</td>\n",
       "      <td>NaN</td>\n",
       "      <td>NaN</td>\n",
       "      <td>NaN</td>\n",
       "      <td>NaN</td>\n",
       "      <td>NaN</td>\n",
       "      <td>1.184873e+09</td>\n",
       "      <td>1.148012e+10</td>\n",
       "      <td>1.513867e+11</td>\n",
       "      <td>232.281800</td>\n",
       "    </tr>\n",
       "    <tr>\n",
       "      <th>2</th>\n",
       "      <td>69.0</td>\n",
       "      <td>28.0</td>\n",
       "      <td>0.00</td>\n",
       "      <td>2.233527e+09</td>\n",
       "      <td>87386416.0</td>\n",
       "      <td>1.128</td>\n",
       "      <td>1.887272</td>\n",
       "      <td>1.582420</td>\n",
       "      <td>1.150506</td>\n",
       "      <td>0.187750</td>\n",
       "      <td>...</td>\n",
       "      <td>0.530494</td>\n",
       "      <td>0.474599</td>\n",
       "      <td>NaN</td>\n",
       "      <td>0.506973</td>\n",
       "      <td>NaN</td>\n",
       "      <td>NaN</td>\n",
       "      <td>1.152113e+09</td>\n",
       "      <td>1.073868e+10</td>\n",
       "      <td>1.523055e+11</td>\n",
       "      <td>-410.263827</td>\n",
       "    </tr>\n",
       "    <tr>\n",
       "      <th>3</th>\n",
       "      <td>58.0</td>\n",
       "      <td>32.0</td>\n",
       "      <td>0.00</td>\n",
       "      <td>2.233527e+09</td>\n",
       "      <td>87386416.0</td>\n",
       "      <td>1.143</td>\n",
       "      <td>1.771421</td>\n",
       "      <td>1.637923</td>\n",
       "      <td>1.202537</td>\n",
       "      <td>0.197688</td>\n",
       "      <td>...</td>\n",
       "      <td>0.515827</td>\n",
       "      <td>0.530494</td>\n",
       "      <td>0.474599</td>\n",
       "      <td>0.513624</td>\n",
       "      <td>NaN</td>\n",
       "      <td>NaN</td>\n",
       "      <td>1.104591e+09</td>\n",
       "      <td>1.074230e+10</td>\n",
       "      <td>1.530270e+11</td>\n",
       "      <td>-698.389313</td>\n",
       "    </tr>\n",
       "    <tr>\n",
       "      <th>4</th>\n",
       "      <td>77.0</td>\n",
       "      <td>50.0</td>\n",
       "      <td>0.01</td>\n",
       "      <td>2.233527e+09</td>\n",
       "      <td>87386416.0</td>\n",
       "      <td>1.169</td>\n",
       "      <td>1.860760</td>\n",
       "      <td>1.562982</td>\n",
       "      <td>1.150243</td>\n",
       "      <td>0.193789</td>\n",
       "      <td>...</td>\n",
       "      <td>0.494550</td>\n",
       "      <td>0.515827</td>\n",
       "      <td>0.530494</td>\n",
       "      <td>0.502604</td>\n",
       "      <td>NaN</td>\n",
       "      <td>NaN</td>\n",
       "      <td>1.111032e+09</td>\n",
       "      <td>1.064895e+10</td>\n",
       "      <td>1.540258e+11</td>\n",
       "      <td>-711.749294</td>\n",
       "    </tr>\n",
       "  </tbody>\n",
       "</table>\n",
       "<p>5 rows × 61 columns</p>\n",
       "</div>"
      ],
      "text/plain": [
       "   tmax  tmin  prcp  Total Energy Sales (MWh)  Total Customers  \\\n",
       "0  12.0  -6.0  0.01              2.233527e+09       87386416.0   \n",
       "1  32.0   5.0  0.00              2.233527e+09       87386416.0   \n",
       "2  69.0  28.0  0.00              2.233527e+09       87386416.0   \n",
       "3  58.0  32.0  0.00              2.233527e+09       87386416.0   \n",
       "4  77.0  50.0  0.01              2.233527e+09       87386416.0   \n",
       "\n",
       "   Gasoline Price  Coal Production  Natural Gas (Dry) Production  \\\n",
       "0           1.114         1.759371                      1.487280   \n",
       "1           1.109         2.069239                      1.665073   \n",
       "2           1.128         1.887272                      1.582420   \n",
       "3           1.143         1.771421                      1.637923   \n",
       "4           1.169         1.860760                      1.562982   \n",
       "\n",
       "   Crude Oil Production  Natural Gas Plant Liquids Production  ...  \\\n",
       "0              1.099501                              0.170481  ...   \n",
       "1              1.212863                              0.192734  ...   \n",
       "2              1.150506                              0.187750  ...   \n",
       "3              1.202537                              0.197688  ...   \n",
       "4              1.150243                              0.193789  ...   \n",
       "\n",
       "   Total Renewable Energy Production_lag1  \\\n",
       "0                                     NaN   \n",
       "1                                0.474599   \n",
       "2                                0.530494   \n",
       "3                                0.515827   \n",
       "4                                0.494550   \n",
       "\n",
       "   Total Renewable Energy Production_lag2  \\\n",
       "0                                     NaN   \n",
       "1                                     NaN   \n",
       "2                                0.474599   \n",
       "3                                0.530494   \n",
       "4                                0.515827   \n",
       "\n",
       "   Total Renewable Energy Production_lag3  \\\n",
       "0                                     NaN   \n",
       "1                                     NaN   \n",
       "2                                     NaN   \n",
       "3                                0.474599   \n",
       "4                                0.530494   \n",
       "\n",
       "   Total Renewable Energy Production_rolling_mean3  \\\n",
       "0                                              NaN   \n",
       "1                                              NaN   \n",
       "2                                         0.506973   \n",
       "3                                         0.513624   \n",
       "4                                         0.502604   \n",
       "\n",
       "   Total Renewable Energy Production_rolling_mean6  \\\n",
       "0                                              NaN   \n",
       "1                                              NaN   \n",
       "2                                              NaN   \n",
       "3                                              NaN   \n",
       "4                                              NaN   \n",
       "\n",
       "   Total Renewable Energy Production_rolling_mean12  \\\n",
       "0                                               NaN   \n",
       "1                                               NaN   \n",
       "2                                               NaN   \n",
       "3                                               NaN   \n",
       "4                                               NaN   \n",
       "\n",
       "   energy_consumption_renewable_interaction  \\\n",
       "0                              1.060030e+09   \n",
       "1                              1.184873e+09   \n",
       "2                              1.152113e+09   \n",
       "3                              1.104591e+09   \n",
       "4                              1.111032e+09   \n",
       "\n",
       "   energy_consumption_traditional_interaction  \\\n",
       "0                                1.008802e+10   \n",
       "1                                1.148012e+10   \n",
       "2                                1.073868e+10   \n",
       "3                                1.074230e+10   \n",
       "4                                1.064895e+10   \n",
       "\n",
       "   energy_consumption_industrial_interaction  Energy Consumption PCA Component  \n",
       "0                               1.498830e+11                        712.139879  \n",
       "1                               1.513867e+11                        232.281800  \n",
       "2                               1.523055e+11                       -410.263827  \n",
       "3                               1.530270e+11                       -698.389313  \n",
       "4                               1.540258e+11                       -711.749294  \n",
       "\n",
       "[5 rows x 61 columns]"
      ]
     },
     "execution_count": 3,
     "metadata": {},
     "output_type": "execute_result"
    }
   ],
   "source": [
    "df.head()"
   ]
  },
  {
   "cell_type": "code",
   "execution_count": 4,
   "metadata": {
    "colab": {
     "base_uri": "https://localhost:8080/"
    },
    "id": "IslgyNbB-sBH",
    "outputId": "942d85ef-24cb-4c8b-b542-91b549b46ee1"
   },
   "outputs": [
    {
     "data": {
      "text/plain": [
       "Index(['tmax', 'tmin', 'prcp', 'Total Energy Sales (MWh)', 'Total Customers',\n",
       "       'Gasoline Price', 'Coal Production', 'Natural Gas (Dry) Production',\n",
       "       'Crude Oil Production', 'Natural Gas Plant Liquids Production',\n",
       "       'Total Fossil Fuels Production', 'Nuclear Electric Power Production',\n",
       "       'Hydroelectric Power Production', 'Geothermal Energy Production',\n",
       "       'Solar Energy Production', 'Wind Energy Production',\n",
       "       'Biomass Energy Production', 'Total Renewable Energy Production',\n",
       "       'Total Primary Energy Production', 'Electricity Price',\n",
       "       'Petroleum and Coal', 'CPI', 'Working Age Population',\n",
       "       'Unemployment rate', 'Personal savings rate', 'M2 money supply',\n",
       "       'Personal consumption expenditures (PCE) price index excluding food and energy',\n",
       "       'Personal consumption expenditures', 'Real effective exchange rate',\n",
       "       '3-Month Treasury Bill: Secondary Market Rate',\n",
       "       'Federal Funds Rate - Upper Bound', 'Consumer Confidence Index',\n",
       "       'Industrial Production Index',\n",
       "       'Consumer Price Index for All Urban Consumers: All Items', 'WTI Price',\n",
       "       'Brent Price', 'DATE', 'year', 'month', 'season', 'temperature_range',\n",
       "       'temperature_range_lag1', 'temperature_range_rolling_mean12',\n",
       "       'prcp_lag1', 'prcp_mean12', 'Total Energy Sales (MWh)_lag1',\n",
       "       'Total Energy Sales (MWh)_lag2', 'Total Energy Sales (MWh)_lag3',\n",
       "       'Total Energy Sales (MWh)_rolling_mean3',\n",
       "       'Total Energy Sales (MWh)_rolling_mean6',\n",
       "       'Total Energy Sales (MWh)_rolling_mean12',\n",
       "       'Total Renewable Energy Production_lag1',\n",
       "       'Total Renewable Energy Production_lag2',\n",
       "       'Total Renewable Energy Production_lag3',\n",
       "       'Total Renewable Energy Production_rolling_mean3',\n",
       "       'Total Renewable Energy Production_rolling_mean6',\n",
       "       'Total Renewable Energy Production_rolling_mean12',\n",
       "       'energy_consumption_renewable_interaction',\n",
       "       'energy_consumption_traditional_interaction',\n",
       "       'energy_consumption_industrial_interaction',\n",
       "       'Energy Consumption PCA Component'],\n",
       "      dtype='object')"
      ]
     },
     "execution_count": 4,
     "metadata": {},
     "output_type": "execute_result"
    }
   ],
   "source": [
    "df.columns"
   ]
  },
  {
   "cell_type": "markdown",
   "metadata": {
    "id": "bGxhd0yY_86g"
   },
   "source": [
    "## Removing redundant columns"
   ]
  },
  {
   "cell_type": "code",
   "execution_count": 5,
   "metadata": {
    "id": "HYaxwYJpAAaY"
   },
   "outputs": [],
   "source": [
    "df.drop(['Brent Price', 'CPI'], axis=1, inplace=True)"
   ]
  },
  {
   "cell_type": "markdown",
   "metadata": {
    "id": "K_89vQN7-4CH"
   },
   "source": [
    "## Create DF to use for energy consumption prediction"
   ]
  },
  {
   "cell_type": "code",
   "execution_count": 6,
   "metadata": {
    "id": "nPb6WP2N-sDA"
   },
   "outputs": [],
   "source": [
    "remove_cols_cons = ['Coal Production', 'Natural Gas (Dry) Production',\n",
    "       'Crude Oil Production', 'Natural Gas Plant Liquids Production',\n",
    "       'Total Fossil Fuels Production', 'Nuclear Electric Power Production',\n",
    "       'Hydroelectric Power Production', 'Geothermal Energy Production',\n",
    "       'Solar Energy Production', 'Wind Energy Production',\n",
    "       'Biomass Energy Production', 'Total Renewable Energy Production',\n",
    "       'Total Primary Energy Production', 'Total Renewable Energy Production_lag1',\n",
    "       'Total Renewable Energy Production_lag2',\n",
    "       'Total Renewable Energy Production_lag3',\n",
    "       'Total Renewable Energy Production_rolling_mean3',\n",
    "       'Total Renewable Energy Production_rolling_mean6',\n",
    "       'Total Renewable Energy Production_rolling_mean12']\n",
    "energy_consumption_df = df.drop(remove_cols_cons, axis=1)"
   ]
  },
  {
   "cell_type": "markdown",
   "metadata": {
    "id": "pv3USewI-9N8"
   },
   "source": [
    "## Create DF to use for renewable energy generation prediction"
   ]
  },
  {
   "cell_type": "code",
   "execution_count": 7,
   "metadata": {
    "id": "4bvnMwCR-sE_"
   },
   "outputs": [],
   "source": [
    "remove_cols_renew = ['Coal Production', 'Natural Gas (Dry) Production', 'Crude Oil Production', \n",
    "                     'Natural Gas Plant Liquids Production', 'Total Fossil Fuels Production', \n",
    "                     'Nuclear Electric Power Production', 'Hydroelectric Power Production', \n",
    "                     'Geothermal Energy Production', 'Solar Energy Production', \n",
    "                     'Wind Energy Production', 'Biomass Energy Production', 'Total Primary Energy Production',   \n",
    "                     'Total Energy Sales (MWh)_lag1', 'Total Energy Sales (MWh)_lag2', 'Total Energy Sales (MWh)_lag3', \n",
    "                     'Total Energy Sales (MWh)_rolling_mean3', 'Total Energy Sales (MWh)_rolling_mean6', 'Total Energy Sales (MWh)_rolling_mean12']\n",
    "renewable_df = df.drop(remove_cols_renew, axis=1)"
   ]
  },
  {
   "cell_type": "markdown",
   "metadata": {
    "id": "RenNVn6YCCCv"
   },
   "source": [
    "## Run models for Energy Consumption forecasting"
   ]
  },
  {
   "cell_type": "markdown",
   "metadata": {
    "id": "I7fnQM9dCqqI"
   },
   "source": [
    "### SVM for prediction Total Energy Sale (MWh)"
   ]
  },
  {
   "cell_type": "code",
   "execution_count": 8,
   "metadata": {
    "colab": {
     "base_uri": "https://localhost:8080/"
    },
    "id": "52pwN3u_CBYN",
    "outputId": "a7ed3644-04e6-4554-9e18-1a981c8a7836"
   },
   "outputs": [
    {
     "name": "stdout",
     "output_type": "stream",
     "text": [
      "Best hyperparameters for SVM: {'C': 100, 'gamma': 0.01}\n",
      "SVM RMSE with best hyperparameters: 117895832.70190868\n"
     ]
    }
   ],
   "source": [
    "# Create dummy variables for season and month\n",
    "data = pd.get_dummies(energy_consumption_df, columns=['season', 'month']).dropna()\n",
    "\n",
    "# Separate features and target variable\n",
    "X = data.drop(['Total Energy Sales (MWh)', 'DATE', 'Energy Consumption PCA Component'], axis=1)\n",
    "y = data['Total Energy Sales (MWh)']\n",
    "\n",
    "# Scale features\n",
    "scaler = StandardScaler()\n",
    "X_scaled = scaler.fit_transform(X)\n",
    "\n",
    "# Define k-fold cross-validation\n",
    "kf = KFold(n_splits=10, shuffle=True, random_state=42)\n",
    "\n",
    "# Define SVM model\n",
    "svm_model = SVR()\n",
    "\n",
    "# Define hyperparameter grid\n",
    "param_grid = {\n",
    "    'C': [0.1, 1, 10, 100],\n",
    "    'gamma': ['scale', 'auto'] + [0.01, 0.1, 1, 10]\n",
    "}\n",
    "\n",
    "# Perform grid search with k-fold cross-validation\n",
    "svm_grid_search = GridSearchCV(svm_model, param_grid, cv=kf, scoring='neg_root_mean_squared_error')\n",
    "svm_grid_search.fit(X_scaled, y)\n",
    "\n",
    "# Print best hyperparameters\n",
    "print(\"Best hyperparameters for SVM:\", svm_grid_search.best_params_)\n",
    "\n",
    "# Compute mean RMSE across folds for SVM with best hyperparameters\n",
    "svm_rmse_list = []\n",
    "for train_index, test_index in kf.split(X_scaled):\n",
    "    # Split data into training and test sets\n",
    "    X_train, X_test = X_scaled[train_index], X_scaled[test_index]\n",
    "    y_train, y_test = y.iloc[train_index], y.iloc[test_index]\n",
    "    \n",
    "    # Train SVM model with best hyperparameters\n",
    "    svm_model = SVR(**svm_grid_search.best_params_)\n",
    "    svm_model.fit(X_train, y_train)\n",
    "    \n",
    "    # Evaluate model on test set and store RMSE\n",
    "    y_pred = svm_model.predict(X_test)\n",
    "    rmse = mean_squared_error(y_test, y_pred, squared=False)\n",
    "    svm_rmse_list.append(rmse)\n",
    "\n",
    "# Compute mean RMSE across folds for SVM with best hyperparameters\n",
    "svm_mean_rmse = sum(svm_rmse_list) / len(svm_rmse_list)\n",
    "print(\"SVM RMSE with best hyperparameters:\", svm_mean_rmse)"
   ]
  },
  {
   "cell_type": "markdown",
   "metadata": {
    "id": "JGDroIysDuWy"
   },
   "source": [
    "### SVM for predicting Energy Consumption PCA Component"
   ]
  },
  {
   "cell_type": "code",
   "execution_count": 9,
   "metadata": {
    "colab": {
     "base_uri": "https://localhost:8080/"
    },
    "id": "IfofDh11DT1X",
    "outputId": "33f8b938-04b7-4791-ea0d-2cc90ccb46f6"
   },
   "outputs": [
    {
     "name": "stdout",
     "output_type": "stream",
     "text": [
      "Best hyperparameters for SVM: {'C': 100, 'gamma': 0.01}\n",
      "SVM RMSE with best hyperparameters: 259.7629261260897\n"
     ]
    }
   ],
   "source": [
    "# Separate features and target variable\n",
    "X = data.drop(['Total Energy Sales (MWh)', 'DATE', 'Energy Consumption PCA Component'], axis=1)\n",
    "y = data['Energy Consumption PCA Component']\n",
    "\n",
    "# Scale features\n",
    "scaler = StandardScaler()\n",
    "X_scaled = scaler.fit_transform(X)\n",
    "\n",
    "# Define k-fold cross-validation\n",
    "kf = KFold(n_splits=10, shuffle=True, random_state=42)\n",
    "\n",
    "# Define SVM model\n",
    "svm_model = SVR()\n",
    "\n",
    "# Define hyperparameter grid\n",
    "param_grid = {\n",
    "    'C': [0.1, 1, 10, 100],\n",
    "    'gamma': ['scale', 'auto'] + [0.01, 0.1, 1, 10]\n",
    "}\n",
    "\n",
    "# Perform grid search with k-fold cross-validation\n",
    "svm_grid_search = GridSearchCV(svm_model, param_grid, cv=kf, scoring='neg_root_mean_squared_error')\n",
    "svm_grid_search.fit(X_scaled, y)\n",
    "\n",
    "# Print best hyperparameters\n",
    "print(\"Best hyperparameters for SVM:\", svm_grid_search.best_params_)\n",
    "\n",
    "# Compute mean RMSE across folds for SVM with best hyperparameters\n",
    "svm_rmse_list = []\n",
    "for train_index, test_index in kf.split(X_scaled):\n",
    "    # Split data into training and test sets\n",
    "    X_train, X_test = X_scaled[train_index], X_scaled[test_index]\n",
    "    y_train, y_test = y.iloc[train_index], y.iloc[test_index]\n",
    "    \n",
    "    # Train SVM model with best hyperparameters\n",
    "    svm_model = SVR(**svm_grid_search.best_params_)\n",
    "    svm_model.fit(X_train, y_train)\n",
    "    \n",
    "    # Evaluate model on test set and store RMSE\n",
    "    y_pred = svm_model.predict(X_test)\n",
    "    rmse = mean_squared_error(y_test, y_pred, squared=False)\n",
    "    svm_rmse_list.append(rmse)\n",
    "\n",
    "# Compute mean RMSE across folds for SVM with best hyperparameters\n",
    "svm_mean_rmse = sum(svm_rmse_list) / len(svm_rmse_list)\n",
    "print(\"SVM RMSE with best hyperparameters:\", svm_mean_rmse)"
   ]
  },
  {
   "cell_type": "markdown",
   "metadata": {
    "id": "f8pScrj2EHbn"
   },
   "source": [
    "## Decision Tree for Energy Consumption Prediction"
   ]
  },
  {
   "cell_type": "markdown",
   "metadata": {
    "id": "QbXnpRstEOUL"
   },
   "source": [
    "### Decision Tree for predicting Total Energy Sales (MWh)"
   ]
  },
  {
   "cell_type": "code",
   "execution_count": 10,
   "metadata": {
    "colab": {
     "base_uri": "https://localhost:8080/"
    },
    "id": "HZwZ-UsgD2uM",
    "outputId": "123d05ad-448d-46d6-a041-b191114e5c71"
   },
   "outputs": [
    {
     "name": "stdout",
     "output_type": "stream",
     "text": [
      "Best hyperparameters for Decision Tree Regressor: {'max_depth': 10, 'max_features': 'auto', 'min_samples_leaf': 2, 'min_samples_split': 6}\n",
      "Decision Tree Regressor RMSE with best hyperparameters: 11813864.572230961\n"
     ]
    }
   ],
   "source": [
    "# Separate features and target variable\n",
    "X = data.drop(['Total Energy Sales (MWh)', 'DATE', 'Energy Consumption PCA Component'], axis=1)\n",
    "y = data['Total Energy Sales (MWh)']\n",
    "\n",
    "# Define k-fold cross-validation\n",
    "kf = KFold(n_splits=10, shuffle=True, random_state=42)\n",
    "\n",
    "# Define Decision Tree Regressor model\n",
    "dt_model = DecisionTreeRegressor(random_state=42)\n",
    "\n",
    "# Define hyperparameter grid\n",
    "param_grid = {\n",
    "    'max_depth': [2, 4, 6, 8, 10],\n",
    "    'min_samples_split': [2, 4, 6, 8, 10],\n",
    "    'min_samples_leaf': [1, 2, 3, 4, 5],\n",
    "    'max_features': ['auto', 'sqrt', 'log2']\n",
    "}\n",
    "\n",
    "# Perform grid search with k-fold cross-validation\n",
    "dt_grid_search = GridSearchCV(dt_model, param_grid, cv=kf, scoring='neg_root_mean_squared_error')\n",
    "dt_grid_search.fit(X, y)\n",
    "\n",
    "# Print best hyperparameters\n",
    "print(\"Best hyperparameters for Decision Tree Regressor:\", dt_grid_search.best_params_)\n",
    "\n",
    "# Compute mean RMSE across folds for Decision Tree Regressor with best hyperparameters\n",
    "dt_rmse_list = []\n",
    "for train_index, test_index in kf.split(X):\n",
    "    # Split data into training and test sets\n",
    "    X_train, X_test = X.iloc[train_index], X.iloc[test_index]\n",
    "    y_train, y_test = y.iloc[train_index], y.iloc[test_index]\n",
    "    \n",
    "    # Train Decision Tree Regressor model with best hyperparameters\n",
    "    dt_model = DecisionTreeRegressor(**dt_grid_search.best_params_, random_state=42)\n",
    "    dt_model.fit(X_train, y_train)\n",
    "    \n",
    "    # Evaluate model on test set and store RMSE\n",
    "    y_pred = dt_model.predict(X_test)\n",
    "    rmse = mean_squared_error(y_test, y_pred, squared=False)\n",
    "    dt_rmse_list.append(rmse)\n",
    "\n",
    "# Compute mean RMSE across folds for Decision Tree Regressor with best hyperparameters\n",
    "dt_mean_rmse = sum(dt_rmse_list) / len(dt_rmse_list)\n",
    "print(\"Decision Tree Regressor RMSE with best hyperparameters:\", dt_mean_rmse)"
   ]
  },
  {
   "cell_type": "markdown",
   "metadata": {
    "id": "3cl65LpqEuKR"
   },
   "source": [
    "### Decision Tree for predicting Energy Consumption PCA Component"
   ]
  },
  {
   "cell_type": "code",
   "execution_count": 11,
   "metadata": {
    "colab": {
     "base_uri": "https://localhost:8080/"
    },
    "id": "46AgZc31Er7J",
    "outputId": "f6e8ab3a-b1c9-4b87-f836-49037bd49203"
   },
   "outputs": [
    {
     "name": "stdout",
     "output_type": "stream",
     "text": [
      "Best hyperparameters for Decision Tree Regressor: {'max_depth': 10, 'max_features': 'auto', 'min_samples_leaf': 5, 'min_samples_split': 2}\n",
      "Decision Tree Regressor RMSE with best hyperparameters: 169.4143367416745\n"
     ]
    }
   ],
   "source": [
    "# Separate features and target variable\n",
    "X = data.drop(['Total Energy Sales (MWh)', 'DATE', 'Energy Consumption PCA Component'], axis=1)\n",
    "y = data['Energy Consumption PCA Component']\n",
    "\n",
    "# Define k-fold cross-validation\n",
    "kf = KFold(n_splits=10, shuffle=True, random_state=42)\n",
    "\n",
    "# Define Decision Tree Regressor model\n",
    "dt_model = DecisionTreeRegressor(random_state=42)\n",
    "\n",
    "# Define hyperparameter grid\n",
    "param_grid = {\n",
    "    'max_depth': [2, 4, 6, 8, 10],\n",
    "    'min_samples_split': [2, 4, 6, 8, 10],\n",
    "    'min_samples_leaf': [1, 2, 3, 4, 5],\n",
    "    'max_features': ['auto', 'sqrt', 'log2']\n",
    "}\n",
    "\n",
    "# Perform grid search with k-fold cross-validation\n",
    "dt_grid_search = GridSearchCV(dt_model, param_grid, cv=kf, scoring='neg_root_mean_squared_error')\n",
    "dt_grid_search.fit(X, y)\n",
    "\n",
    "# Print best hyperparameters\n",
    "print(\"Best hyperparameters for Decision Tree Regressor:\", dt_grid_search.best_params_)\n",
    "\n",
    "# Compute mean RMSE across folds for Decision Tree Regressor with best hyperparameters\n",
    "dt_rmse_list = []\n",
    "for train_index, test_index in kf.split(X):\n",
    "    # Split data into training and test sets\n",
    "    X_train, X_test = X.iloc[train_index], X.iloc[test_index]\n",
    "    y_train, y_test = y.iloc[train_index], y.iloc[test_index]\n",
    "    \n",
    "    # Train Decision Tree Regressor model with best hyperparameters\n",
    "    dt_model = DecisionTreeRegressor(**dt_grid_search.best_params_, random_state=42)\n",
    "    dt_model.fit(X_train, y_train)\n",
    "    \n",
    "    # Evaluate model on test set and store RMSE\n",
    "    y_pred = dt_model.predict(X_test)\n",
    "    rmse = mean_squared_error(y_test, y_pred, squared=False)\n",
    "    dt_rmse_list.append(rmse)\n",
    "\n",
    "# Compute mean RMSE across folds for Decision Tree Regressor with best hyperparameters\n",
    "dt_mean_rmse = sum(dt_rmse_list) / len(dt_rmse_list)\n",
    "print(\"Decision Tree Regressor RMSE with best hyperparameters:\", dt_mean_rmse)"
   ]
  },
  {
   "cell_type": "markdown",
   "metadata": {
    "id": "T59SIw9kFlwf"
   },
   "source": [
    "## Random Forest for Energy Consumption Prediction"
   ]
  },
  {
   "cell_type": "markdown",
   "metadata": {
    "id": "Q4b4kvo9FpmU"
   },
   "source": [
    "### Random Forest for predicting Total Energy Sales (MWh)"
   ]
  },
  {
   "cell_type": "code",
   "execution_count": 12,
   "metadata": {
    "id": "jaC8tLG4E-gF"
   },
   "outputs": [
    {
     "name": "stdout",
     "output_type": "stream",
     "text": [
      "Best hyperparameters for Random Forest Regressor: {'max_depth': 8, 'max_features': 'auto', 'min_samples_leaf': 3, 'min_samples_split': 10, 'n_estimators': 200}\n",
      "Random Forest Regressor RMSE with best hyperparameters: 11597988.8205847\n"
     ]
    }
   ],
   "source": [
    "# Separate features and target variable\n",
    "X = data.drop(['Total Energy Sales (MWh)', 'DATE', 'Energy Consumption PCA Component'], axis=1)\n",
    "y = data['Total Energy Sales (MWh)']\n",
    "\n",
    "\n",
    "# Define k-fold cross-validation\n",
    "kf = KFold(n_splits=10, shuffle=True, random_state=42)\n",
    "\n",
    "# Define Random Forest Regressor model\n",
    "rf_model = RandomForestRegressor(random_state=42)\n",
    "\n",
    "# Define hyperparameter grid\n",
    "param_grid = {\n",
    "    'n_estimators': [10, 50, 100, 200],\n",
    "    'max_depth': [2, 4, 6, 8, 10],\n",
    "    'min_samples_split': [2, 4, 6, 8, 10],\n",
    "    'min_samples_leaf': [1, 2, 3, 4, 5],\n",
    "    'max_features': ['auto', 'sqrt', 'log2']\n",
    "}\n",
    "\n",
    "# Perform grid search with k-fold cross-validation\n",
    "rf_grid_search = GridSearchCV(rf_model, param_grid, cv=kf, scoring='neg_root_mean_squared_error')\n",
    "rf_grid_search.fit(X, y)\n",
    "\n",
    "# Print best hyperparameters\n",
    "print(\"Best hyperparameters for Random Forest Regressor:\", rf_grid_search.best_params_)\n",
    "\n",
    "# Compute mean RMSE across folds for Random Forest Regressor with best hyperparameters\n",
    "rf_rmse_list = []\n",
    "for train_index, test_index in kf.split(X):\n",
    "    # Split data into training and test sets\n",
    "    X_train, X_test = X.iloc[train_index], X.iloc[test_index]\n",
    "    y_train, y_test = y.iloc[train_index], y.iloc[test_index]\n",
    "    \n",
    "    # Train Random Forest Regressor model with best hyperparameters\n",
    "    rf_model = RandomForestRegressor(**rf_grid_search.best_params_, random_state=42)\n",
    "    rf_model.fit(X_train, y_train)\n",
    "    \n",
    "    # Evaluate model on test set and store RMSE\n",
    "    y_pred = rf_model.predict(X_test)\n",
    "    rmse = mean_squared_error(y_test, y_pred, squared=False)\n",
    "    rf_rmse_list.append(rmse)\n",
    "\n",
    "# Compute mean RMSE across folds for Random Forest Regressor with best hyperparameters\n",
    "rf_mean_rmse = sum(rf_rmse_list) / len(rf_rmse_list)\n",
    "print(\"Random Forest Regressor RMSE with best hyperparameters:\", rf_mean_rmse)\n"
   ]
  },
  {
   "cell_type": "markdown",
   "metadata": {
    "id": "gXKCkJzVF-no"
   },
   "source": [
    "### Random Forest for predicting Energy Consumption PCA Component"
   ]
  },
  {
   "cell_type": "code",
   "execution_count": 13,
   "metadata": {
    "id": "GhlrR7TBF4wg"
   },
   "outputs": [
    {
     "name": "stdout",
     "output_type": "stream",
     "text": [
      "Best hyperparameters for Random Forest Regressor: {'max_depth': 10, 'max_features': 'auto', 'min_samples_leaf': 5, 'min_samples_split': 2, 'n_estimators': 200}\n",
      "Random Forest Regressor RMSE with best hyperparameters: 154.13689189458336\n"
     ]
    }
   ],
   "source": [
    "# Separate features and target variable\n",
    "X = data.drop(['Total Energy Sales (MWh)', 'DATE', 'Energy Consumption PCA Component'], axis=1)\n",
    "y = data['Energy Consumption PCA Component']\n",
    "\n",
    "\n",
    "# Define k-fold cross-validation\n",
    "kf = KFold(n_splits=10, shuffle=True, random_state=42)\n",
    "\n",
    "# Define Random Forest Regressor model\n",
    "rf_model = RandomForestRegressor(random_state=42)\n",
    "\n",
    "# Define hyperparameter grid\n",
    "param_grid = {\n",
    "    'n_estimators': [10, 50, 100, 200],\n",
    "    'max_depth': [2, 4, 6, 8, 10],\n",
    "    'min_samples_split': [2, 4, 6, 8, 10],\n",
    "    'min_samples_leaf': [1, 2, 3, 4, 5],\n",
    "    'max_features': ['auto', 'sqrt', 'log2']\n",
    "}\n",
    "\n",
    "# Perform grid search with k-fold cross-validation\n",
    "rf_grid_search = GridSearchCV(rf_model, param_grid, cv=kf, scoring='neg_root_mean_squared_error')\n",
    "rf_grid_search.fit(X, y)\n",
    "\n",
    "# Print best hyperparameters\n",
    "print(\"Best hyperparameters for Random Forest Regressor:\", rf_grid_search.best_params_)\n",
    "\n",
    "# Compute mean RMSE across folds for Random Forest Regressor with best hyperparameters\n",
    "rf_rmse_list = []\n",
    "for train_index, test_index in kf.split(X):\n",
    "    # Split data into training and test sets\n",
    "    X_train, X_test = X.iloc[train_index], X.iloc[test_index]\n",
    "    y_train, y_test = y.iloc[train_index], y.iloc[test_index]\n",
    "    \n",
    "    # Train Random Forest Regressor model with best hyperparameters\n",
    "    rf_model = RandomForestRegressor(**rf_grid_search.best_params_, random_state=42)\n",
    "    rf_model.fit(X_train, y_train)\n",
    "    \n",
    "    # Evaluate model on test set and store RMSE\n",
    "    y_pred = rf_model.predict(X_test)\n",
    "    rmse = mean_squared_error(y_test, y_pred, squared=False)\n",
    "    rf_rmse_list.append(rmse)\n",
    "\n",
    "# Compute mean RMSE across folds for Random Forest Regressor with best hyperparameters\n",
    "rf_mean_rmse = sum(rf_rmse_list) / len(rf_rmse_list)\n",
    "print(\"Random Forest Regressor RMSE with best hyperparameters:\", rf_mean_rmse)"
   ]
  },
  {
   "cell_type": "markdown",
   "metadata": {
    "id": "X1bLITo_L5wW"
   },
   "source": [
    "#### Feature Importance for the Random Forest Model"
   ]
  },
  {
   "cell_type": "code",
   "execution_count": 14,
   "metadata": {},
   "outputs": [
    {
     "data": {
      "image/png": "[encoded data removed]",
      "text/plain": [
       "<Figure size 1440x1080 with 1 Axes>"
      ]
     },
     "metadata": {
      "needs_background": "light"
     },
     "output_type": "display_data"
    }
   ],
   "source": [
    "# Compute feature importances\n",
    "importances = rf_model.feature_importances_\n",
    "\n",
    "# Sort feature importances in descending order\n",
    "sorted_indices = importances.argsort()[::-1]\n",
    "\n",
    "# Sort feature names in descending order\n",
    "sorted_feature_names = X.columns[sorted_indices]\n",
    "\n",
    "plt.figure(figsize=(20,15))\n",
    "\n",
    "# Get the top 10 feature importances\n",
    "top_importances = importances[sorted_indices][:10]\n",
    "top_feature_names = sorted_feature_names[:10]\n",
    "\n",
    "# Create horizontal bar chart\n",
    "plt.barh(range(len(top_importances)), top_importances)\n",
    "plt.yticks(range(len(top_importances)), top_feature_names)\n",
    "plt.xlabel('Importance')\n",
    "plt.ylabel('Feature')\n",
    "plt.title('Top 10 Feature Importances')\n",
    "plt.show()"
   ]
  },
  {
   "cell_type": "code",
   "execution_count": 15,
   "metadata": {},
   "outputs": [
    {
     "data": {
      "image/png": "[encoded data removed]",
      "text/plain": [
       "<Figure size 1440x1080 with 1 Axes>"
      ]
     },
     "metadata": {
      "needs_background": "light"
     },
     "output_type": "display_data"
    }
   ],
   "source": [
    "# Compute feature importances\n",
    "importances = rf_model.feature_importances_\n",
    "\n",
    "# Sort feature importances in descending order\n",
    "sorted_indices = importances.argsort()[::-1]\n",
    "\n",
    "# Sort feature names in descending order\n",
    "sorted_feature_names = X.columns[sorted_indices]\n",
    "\n",
    "plt.figure(figsize=(20,15))\n",
    "\n",
    "# Create horizontal bar chart\n",
    "plt.barh(range(len(importances)), importances[sorted_indices])\n",
    "plt.yticks(range(len(importances)), sorted_feature_names)\n",
    "plt.xlabel('Importance')\n",
    "plt.ylabel('Feature')\n",
    "plt.title('Feature Importances')\n",
    "plt.show()"
   ]
  },
  {
   "cell_type": "code",
   "execution_count": 16,
   "metadata": {},
   "outputs": [
    {
     "data": {
      "image/png": "[encoded data removed]",
      "text/plain": [
       "<Figure size 576x432 with 1 Axes>"
      ]
     },
     "metadata": {
      "needs_background": "light"
     },
     "output_type": "display_data"
    }
   ],
   "source": [
    "# Create a list of columns to drop\n",
    "drop_cols = ['tmax', 'tmin', 'temperature_range', 'temperature_range_lag1', 'temperature_range_rolling_mean12',\n",
    "             'prcp', 'prcp_lag1', 'prcp_mean12', 'season_Fall', 'season_Spring',\n",
    "             'season_Summer', 'season_Winter', 'month_1', 'month_2', 'month_3',\n",
    "             'month_4', 'month_5', 'month_6', 'month_7', 'month_8', 'month_9',\n",
    "             'month_10', 'month_11', 'month_12']\n",
    "\n",
    "# Drop the unwanted columns from the dataframe\n",
    "X_filtered = X.drop(drop_cols, axis=1)\n",
    "\n",
    "# Compute feature importances\n",
    "importances = rf_model.feature_importances_\n",
    "\n",
    "# Sort feature importances in descending order\n",
    "sorted_indices = importances.argsort()[::-1]\n",
    "sorted_importances = [importances[i] for i in sorted_indices if X.columns[i] not in drop_cols][:10]\n",
    "\n",
    "# Create a bar plot of the top 10 feature importances\n",
    "fig, ax = plt.subplots(figsize=(8,6))\n",
    "ax.bar(range(len(sorted_importances)), sorted_importances)\n",
    "ax.set_xticks(range(len(sorted_importances)))\n",
    "ax.set_xticklabels([X.columns[i] for i in sorted_indices if X.columns[i] not in drop_cols][:10], rotation=90)\n",
    "ax.set_ylabel('Feature Importance')\n",
    "ax.set_title('Top 10 Feature Importances')\n",
    "plt.show()"
   ]
  },
  {
   "cell_type": "markdown",
   "metadata": {},
   "source": [
    "## Predicting Total Renewable Energy Production"
   ]
  },
  {
   "cell_type": "markdown",
   "metadata": {},
   "source": [
    "### Predicting Total Renewable Energy Production with a GLM model with F distribution"
   ]
  },
  {
   "cell_type": "code",
   "execution_count": 39,
   "metadata": {},
   "outputs": [
    {
     "name": "stdout",
     "output_type": "stream",
     "text": [
      "Best hyperparameters: {'alpha': 0.0001}\n",
      "Mean RMSE for GLM with Tweedie distribution: 0.011086919589843239\n",
      "Standard deviation of RMSE for GLM with Tweedie distribution: 0.0013274915053902733\n"
     ]
    }
   ],
   "source": [
    "# Load data into pandas DataFrame\n",
    "data = pd.get_dummies(renewable_df, columns=['season', 'month']).dropna()\n",
    "\n",
    "# Separate features and target variable\n",
    "X = data.drop(['Total Renewable Energy Production', 'DATE'], axis=1)\n",
    "y = data['Total Renewable Energy Production']\n",
    "\n",
    "class GLMRegressor():\n",
    "    def __init__(self, alpha=0.5, fit_intercept=True):\n",
    "        self.alpha = alpha\n",
    "        self.fit_intercept = fit_intercept\n",
    "        self.model_ = None\n",
    "\n",
    "    def fit(self, X, y):\n",
    "        X = sm.add_constant(X)\n",
    "        self.model_ = sm.GLM(y, X, family=sm.families.Tweedie(var_power=self.alpha))\n",
    "        self.results_ = self.model_.fit()\n",
    "        return self\n",
    "\n",
    "    def predict(self, X):\n",
    "        X = sm.add_constant(X)\n",
    "        return self.results_.predict(X)\n",
    "\n",
    "    def get_params(self, deep=True):\n",
    "        return {'alpha': self.alpha, 'fit_intercept': self.fit_intercept}\n",
    "\n",
    "    def set_params(self, **params):\n",
    "        if 'alpha' in params:\n",
    "            self.alpha = params['alpha']\n",
    "        if 'fit_intercept' in params:\n",
    "            self.fit_intercept = params['fit_intercept']\n",
    "        return self\n",
    "    \n",
    "glm_model = GLMRegressor()\n",
    "\n",
    "# Perform hyperparameter tuning and k-fold cross-validation\n",
    "grid_search = GridSearchCV(glm_model, param_grid, cv=kf, scoring='neg_mean_squared_error')\n",
    "grid_search.fit(sm.add_constant(np.asarray(X)), y)\n",
    "\n",
    "# Get best hyperparameters and corresponding model\n",
    "best_params = grid_search.best_params_\n",
    "best_model = GLMRegressor(**best_params)\n",
    "best_model.fit(sm.add_constant(np.asarray(X)), y)\n",
    "\n",
    "# Compute RMSE using k-fold cross-validation\n",
    "mse_scores = -1 * cross_val_score(best_model, sm.add_constant(X), y, cv=kf, scoring='neg_mean_squared_error')\n",
    "rmse_scores = np.sqrt(mse_scores)\n",
    "mean_rmse = np.mean(rmse_scores)\n",
    "std_rmse = np.std(rmse_scores)\n",
    "\n",
    "# Print best hyperparameters and mean and standard deviation of RMSE\n",
    "print(\"Best hyperparameters:\", best_params)\n",
    "print(\"Mean RMSE for GLM with Tweedie distribution:\", mean_rmse)\n",
    "print(\"Standard deviation of RMSE for GLM with Tweedie distribution:\", std_rmse)\n"
   ]
  },
  {
   "cell_type": "markdown",
   "metadata": {},
   "source": [
    "### Predicting Total Renewable Energy Production using RandomForest"
   ]
  },
  {
   "cell_type": "code",
   "execution_count": null,
   "metadata": {},
   "outputs": [],
   "source": [
    "# Separate features and target variable\n",
    "X = data.drop(['Total Renewable Energy Production', 'DATE'], axis=1)\n",
    "y = data['Total Renewable Energy Production']\n",
    "\n",
    "# Define k-fold cross-validation\n",
    "kf = KFold(n_splits=10, shuffle=True, random_state=42)\n",
    "\n",
    "# Define Random Forest Regressor model\n",
    "rf_model = RandomForestRegressor(random_state=42)\n",
    "\n",
    "# Define hyperparameter grid\n",
    "param_grid = {\n",
    "    'n_estimators': [10, 50, 100, 200],\n",
    "    'max_depth': [2, 4, 6, 8, 10],\n",
    "    'min_samples_split': [2, 4, 6, 8, 10],\n",
    "    'min_samples_leaf': [1, 2, 3, 4, 5],\n",
    "    'max_features': ['auto', 'sqrt', 'log2']\n",
    "}\n",
    "\n",
    "# Perform grid search with k-fold cross-validation\n",
    "rf_grid_search = GridSearchCV(rf_model, param_grid, cv=kf, scoring='neg_root_mean_squared_error')\n",
    "rf_grid_search.fit(X, y)\n",
    "\n",
    "# Print best hyperparameters\n",
    "print(\"Best hyperparameters for Random Forest Regressor:\", rf_grid_search.best_params_)\n",
    "\n",
    "# Compute mean RMSE across folds for Random Forest Regressor with best hyperparameters\n",
    "rf_rmse_list = []\n",
    "for train_index, test_index in kf.split(X):\n",
    "    # Split data into training and test sets\n",
    "    X_train, X_test = X.iloc[train_index], X.iloc[test_index]\n",
    "    y_train, y_test = y.iloc[train_index], y.iloc[test_index]\n",
    "    \n",
    "    # Train Random Forest Regressor model with best hyperparameters\n",
    "    rf_model = RandomForestRegressor(**rf_grid_search.best_params_, random_state=42)\n",
    "    rf_model.fit(X_train, y_train)\n",
    "    \n",
    "    # Evaluate model on test set and store RMSE\n",
    "    y_pred = rf_model.predict(X_test)\n",
    "    rmse = mean_squared_error(y_test, y_pred, squared=False)\n",
    "    rf_rmse_list.append(rmse)\n",
    "\n",
    "# Compute mean RMSE across folds for Random Forest Regressor with best hyperparameters\n",
    "rf_mean_rmse = sum(rf_rmse_list) / len(rf_rmse_list)\n",
    "print(\"Random Forest Regressor RMSE with best hyperparameters:\", rf_mean_rmse)"
   ]
  },
  {
   "cell_type": "markdown",
   "metadata": {},
   "source": [
    "### Visualizing the feature importance scores for the GLM model"
   ]
  },
  {
   "cell_type": "code",
   "execution_count": 69,
   "metadata": {},
   "outputs": [
    {
     "data": {
      "image/png": "[encoded data removed]",
      "text/plain": [
       "<Figure size 432x288 with 1 Axes>"
      ]
     },
     "metadata": {
      "needs_background": "light"
     },
     "output_type": "display_data"
    }
   ],
   "source": [
    "feature_df = pd.DataFrame({'Features': X.columns, 'Importance':best_model.results_.params[1:].abs()})\n",
    "temp_df = feature_df.sort_values(by='Importance', ascending=False).head(10)\n",
    "\n",
    "# Create a bar plot of feature importances\n",
    "plt.bar(range(len(temp_df)), temp_df['Importance'])\n",
    "plt.xticks(range(len(temp_df)), temp_df['Features'], rotation=90)\n",
    "plt.xlabel('Feature')\n",
    "plt.ylabel('Importance Score')\n",
    "plt.title('GLM Model Feature Importances')\n",
    "plt.show()"
   ]
  },
  {
   "cell_type": "code",
   "execution_count": 67,
   "metadata": {},
   "outputs": [
    {
     "data": {
      "image/png": "[encoded data removed]",
      "text/plain": [
       "<Figure size 432x288 with 1 Axes>"
      ]
     },
     "metadata": {
      "needs_background": "light"
     },
     "output_type": "display_data"
    }
   ],
   "source": [
    "drop_cols = ['tmax', 'tmin', 'temperature_range', 'temperature_range_lag1', \n",
    "             'temperature_range_rolling_mean12',              \n",
    "             'prcp', 'prcp_lag1', 'prcp_mean12', 'season_Fall', 'season_Spring',\n",
    "             'season_Summer', 'season_Winter', 'month_1', 'month_2', 'month_3',\n",
    "             'month_4', 'month_5', 'month_6', 'month_7', 'month_8', 'month_9',\n",
    "             'month_10', 'month_11', 'month_12', 'Total Renewable Energy Production_lag1',\n",
    "             'Total Renewable Energy Production_lag2',\n",
    "             'Total Renewable Energy Production_lag3',\n",
    "             'Total Renewable Energy Production_rolling_mean3',\n",
    "             'Total Renewable Energy Production_rolling_mean6',\n",
    "             'Total Renewable Energy Production_rolling_mean12']\n",
    "\n",
    "\n",
    "feature_df = pd.DataFrame({'Features': X.columns, 'Importance':best_model.results_.params[1:].abs()})\n",
    "temp_df = feature_df.sort_values(by='Importance', ascending=False)\n",
    "\n",
    "temp_df = temp_df[~temp_df['Features'].isin(drop_cols)].head(10)\n",
    "\n",
    "# Create a bar plot of feature importances\n",
    "plt.bar(range(len(temp_df)), temp_df['Importance'])\n",
    "plt.xticks(range(len(temp_df)), temp_df['Features'], rotation=90)\n",
    "plt.xlabel('Feature')\n",
    "plt.ylabel('Importance Score')\n",
    "plt.title('GLM Model Feature Importances')\n",
    "plt.show()"
   ]
  },
  {
   "cell_type": "code",
   "execution_count": 72,
   "metadata": {},
   "outputs": [],
   "source": [
    "feature_df = pd.DataFrame({'Features': X.columns, 'Importance':best_model.results_.params[1:]})"
   ]
  },
  {
   "cell_type": "code",
   "execution_count": 73,
   "metadata": {},
   "outputs": [
    {
     "data": {
      "text/html": [
       "<div>\n",
       "<style scoped>\n",
       "    .dataframe tbody tr th:only-of-type {\n",
       "        vertical-align: middle;\n",
       "    }\n",
       "\n",
       "    .dataframe tbody tr th {\n",
       "        vertical-align: top;\n",
       "    }\n",
       "\n",
       "    .dataframe thead th {\n",
       "        text-align: right;\n",
       "    }\n",
       "</style>\n",
       "<table border=\"1\" class=\"dataframe\">\n",
       "  <thead>\n",
       "    <tr style=\"text-align: right;\">\n",
       "      <th></th>\n",
       "      <th>Features</th>\n",
       "      <th>Importance</th>\n",
       "    </tr>\n",
       "  </thead>\n",
       "  <tbody>\n",
       "    <tr>\n",
       "      <th>x1</th>\n",
       "      <td>tmax</td>\n",
       "      <td>-8.353228e-05</td>\n",
       "    </tr>\n",
       "    <tr>\n",
       "      <th>x2</th>\n",
       "      <td>tmin</td>\n",
       "      <td>3.091467e-04</td>\n",
       "    </tr>\n",
       "    <tr>\n",
       "      <th>x3</th>\n",
       "      <td>prcp</td>\n",
       "      <td>5.870809e-03</td>\n",
       "    </tr>\n",
       "    <tr>\n",
       "      <th>x4</th>\n",
       "      <td>Total Energy Sales (MWh)</td>\n",
       "      <td>4.326652e-10</td>\n",
       "    </tr>\n",
       "    <tr>\n",
       "      <th>x5</th>\n",
       "      <td>Total Customers</td>\n",
       "      <td>-4.441458e-09</td>\n",
       "    </tr>\n",
       "    <tr>\n",
       "      <th>x6</th>\n",
       "      <td>Gasoline Price</td>\n",
       "      <td>2.169715e-02</td>\n",
       "    </tr>\n",
       "    <tr>\n",
       "      <th>x7</th>\n",
       "      <td>Electricity Price</td>\n",
       "      <td>5.333262e-04</td>\n",
       "    </tr>\n",
       "    <tr>\n",
       "      <th>x8</th>\n",
       "      <td>Petroleum and Coal</td>\n",
       "      <td>-4.614869e-04</td>\n",
       "    </tr>\n",
       "    <tr>\n",
       "      <th>x9</th>\n",
       "      <td>Working Age Population</td>\n",
       "      <td>-7.124378e-10</td>\n",
       "    </tr>\n",
       "    <tr>\n",
       "      <th>x10</th>\n",
       "      <td>Unemployment rate</td>\n",
       "      <td>3.588605e-03</td>\n",
       "    </tr>\n",
       "    <tr>\n",
       "      <th>x11</th>\n",
       "      <td>Personal savings rate</td>\n",
       "      <td>8.630498e-03</td>\n",
       "    </tr>\n",
       "    <tr>\n",
       "      <th>x12</th>\n",
       "      <td>M2 money supply</td>\n",
       "      <td>-3.332947e-05</td>\n",
       "    </tr>\n",
       "    <tr>\n",
       "      <th>x13</th>\n",
       "      <td>Personal consumption expenditures (PCE) price ...</td>\n",
       "      <td>-6.713186e-05</td>\n",
       "    </tr>\n",
       "    <tr>\n",
       "      <th>x14</th>\n",
       "      <td>Personal consumption expenditures</td>\n",
       "      <td>4.706260e-05</td>\n",
       "    </tr>\n",
       "    <tr>\n",
       "      <th>x15</th>\n",
       "      <td>Real effective exchange rate</td>\n",
       "      <td>-1.090823e-03</td>\n",
       "    </tr>\n",
       "    <tr>\n",
       "      <th>x16</th>\n",
       "      <td>3-Month Treasury Bill: Secondary Market Rate</td>\n",
       "      <td>-1.284567e-04</td>\n",
       "    </tr>\n",
       "    <tr>\n",
       "      <th>x17</th>\n",
       "      <td>Federal Funds Rate - Upper Bound</td>\n",
       "      <td>-5.204569e-03</td>\n",
       "    </tr>\n",
       "    <tr>\n",
       "      <th>x18</th>\n",
       "      <td>Consumer Confidence Index</td>\n",
       "      <td>1.501073e-08</td>\n",
       "    </tr>\n",
       "    <tr>\n",
       "      <th>x19</th>\n",
       "      <td>Industrial Production Index</td>\n",
       "      <td>-7.941321e-03</td>\n",
       "    </tr>\n",
       "    <tr>\n",
       "      <th>x20</th>\n",
       "      <td>Consumer Price Index for All Urban Consumers: ...</td>\n",
       "      <td>3.534362e-03</td>\n",
       "    </tr>\n",
       "    <tr>\n",
       "      <th>x21</th>\n",
       "      <td>WTI Price</td>\n",
       "      <td>1.403861e-04</td>\n",
       "    </tr>\n",
       "    <tr>\n",
       "      <th>x22</th>\n",
       "      <td>year</td>\n",
       "      <td>-1.174367e-03</td>\n",
       "    </tr>\n",
       "    <tr>\n",
       "      <th>x23</th>\n",
       "      <td>temperature_range</td>\n",
       "      <td>1.129639e-04</td>\n",
       "    </tr>\n",
       "    <tr>\n",
       "      <th>x24</th>\n",
       "      <td>temperature_range_lag1</td>\n",
       "      <td>-1.857865e-04</td>\n",
       "    </tr>\n",
       "    <tr>\n",
       "      <th>x25</th>\n",
       "      <td>temperature_range_rolling_mean12</td>\n",
       "      <td>1.304143e-03</td>\n",
       "    </tr>\n",
       "    <tr>\n",
       "      <th>x26</th>\n",
       "      <td>prcp_lag1</td>\n",
       "      <td>2.224016e-03</td>\n",
       "    </tr>\n",
       "    <tr>\n",
       "      <th>x27</th>\n",
       "      <td>prcp_mean12</td>\n",
       "      <td>3.323254e-02</td>\n",
       "    </tr>\n",
       "    <tr>\n",
       "      <th>x28</th>\n",
       "      <td>Total Renewable Energy Production_lag1</td>\n",
       "      <td>-4.055254e+00</td>\n",
       "    </tr>\n",
       "    <tr>\n",
       "      <th>x29</th>\n",
       "      <td>Total Renewable Energy Production_lag2</td>\n",
       "      <td>-4.087828e+00</td>\n",
       "    </tr>\n",
       "    <tr>\n",
       "      <th>x30</th>\n",
       "      <td>Total Renewable Energy Production_lag3</td>\n",
       "      <td>-4.245867e-02</td>\n",
       "    </tr>\n",
       "    <tr>\n",
       "      <th>x31</th>\n",
       "      <td>Total Renewable Energy Production_rolling_mean3</td>\n",
       "      <td>1.190022e+01</td>\n",
       "    </tr>\n",
       "    <tr>\n",
       "      <th>x32</th>\n",
       "      <td>Total Renewable Energy Production_rolling_mean6</td>\n",
       "      <td>2.659252e-02</td>\n",
       "    </tr>\n",
       "    <tr>\n",
       "      <th>x33</th>\n",
       "      <td>Total Renewable Energy Production_rolling_mean12</td>\n",
       "      <td>4.699342e-01</td>\n",
       "    </tr>\n",
       "    <tr>\n",
       "      <th>x34</th>\n",
       "      <td>energy_consumption_renewable_interaction</td>\n",
       "      <td>-1.028682e-09</td>\n",
       "    </tr>\n",
       "    <tr>\n",
       "      <th>x35</th>\n",
       "      <td>energy_consumption_traditional_interaction</td>\n",
       "      <td>-3.845498e-12</td>\n",
       "    </tr>\n",
       "    <tr>\n",
       "      <th>x36</th>\n",
       "      <td>energy_consumption_industrial_interaction</td>\n",
       "      <td>3.912491e-12</td>\n",
       "    </tr>\n",
       "    <tr>\n",
       "      <th>x37</th>\n",
       "      <td>Energy Consumption PCA Component</td>\n",
       "      <td>-5.317873e-06</td>\n",
       "    </tr>\n",
       "    <tr>\n",
       "      <th>x38</th>\n",
       "      <td>season_Fall</td>\n",
       "      <td>-7.996447e-03</td>\n",
       "    </tr>\n",
       "    <tr>\n",
       "      <th>x39</th>\n",
       "      <td>season_Spring</td>\n",
       "      <td>8.046624e-03</td>\n",
       "    </tr>\n",
       "    <tr>\n",
       "      <th>x40</th>\n",
       "      <td>season_Summer</td>\n",
       "      <td>1.103099e-02</td>\n",
       "    </tr>\n",
       "    <tr>\n",
       "      <th>x41</th>\n",
       "      <td>season_Winter</td>\n",
       "      <td>8.006301e-03</td>\n",
       "    </tr>\n",
       "    <tr>\n",
       "      <th>x42</th>\n",
       "      <td>month_1</td>\n",
       "      <td>8.797028e-03</td>\n",
       "    </tr>\n",
       "    <tr>\n",
       "      <th>x43</th>\n",
       "      <td>month_2</td>\n",
       "      <td>1.690176e-03</td>\n",
       "    </tr>\n",
       "    <tr>\n",
       "      <th>x44</th>\n",
       "      <td>month_3</td>\n",
       "      <td>6.724242e-03</td>\n",
       "    </tr>\n",
       "    <tr>\n",
       "      <th>x45</th>\n",
       "      <td>month_4</td>\n",
       "      <td>-1.071602e-03</td>\n",
       "    </tr>\n",
       "    <tr>\n",
       "      <th>x46</th>\n",
       "      <td>month_5</td>\n",
       "      <td>2.393985e-03</td>\n",
       "    </tr>\n",
       "    <tr>\n",
       "      <th>x47</th>\n",
       "      <td>month_6</td>\n",
       "      <td>6.204590e-04</td>\n",
       "    </tr>\n",
       "    <tr>\n",
       "      <th>x48</th>\n",
       "      <td>month_7</td>\n",
       "      <td>8.203263e-03</td>\n",
       "    </tr>\n",
       "    <tr>\n",
       "      <th>x49</th>\n",
       "      <td>month_8</td>\n",
       "      <td>2.207267e-03</td>\n",
       "    </tr>\n",
       "    <tr>\n",
       "      <th>x50</th>\n",
       "      <td>month_9</td>\n",
       "      <td>-7.513654e-04</td>\n",
       "    </tr>\n",
       "    <tr>\n",
       "      <th>x51</th>\n",
       "      <td>month_10</td>\n",
       "      <td>-4.816370e-03</td>\n",
       "    </tr>\n",
       "    <tr>\n",
       "      <th>x52</th>\n",
       "      <td>month_11</td>\n",
       "      <td>-2.428711e-03</td>\n",
       "    </tr>\n",
       "    <tr>\n",
       "      <th>x53</th>\n",
       "      <td>month_12</td>\n",
       "      <td>-2.480903e-03</td>\n",
       "    </tr>\n",
       "  </tbody>\n",
       "</table>\n",
       "</div>"
      ],
      "text/plain": [
       "                                              Features    Importance\n",
       "x1                                                tmax -8.353228e-05\n",
       "x2                                                tmin  3.091467e-04\n",
       "x3                                                prcp  5.870809e-03\n",
       "x4                            Total Energy Sales (MWh)  4.326652e-10\n",
       "x5                                     Total Customers -4.441458e-09\n",
       "x6                                      Gasoline Price  2.169715e-02\n",
       "x7                                   Electricity Price  5.333262e-04\n",
       "x8                                  Petroleum and Coal -4.614869e-04\n",
       "x9                              Working Age Population -7.124378e-10\n",
       "x10                                  Unemployment rate  3.588605e-03\n",
       "x11                              Personal savings rate  8.630498e-03\n",
       "x12                                    M2 money supply -3.332947e-05\n",
       "x13  Personal consumption expenditures (PCE) price ... -6.713186e-05\n",
       "x14                  Personal consumption expenditures  4.706260e-05\n",
       "x15                       Real effective exchange rate -1.090823e-03\n",
       "x16       3-Month Treasury Bill: Secondary Market Rate -1.284567e-04\n",
       "x17                   Federal Funds Rate - Upper Bound -5.204569e-03\n",
       "x18                          Consumer Confidence Index  1.501073e-08\n",
       "x19                        Industrial Production Index -7.941321e-03\n",
       "x20  Consumer Price Index for All Urban Consumers: ...  3.534362e-03\n",
       "x21                                          WTI Price  1.403861e-04\n",
       "x22                                               year -1.174367e-03\n",
       "x23                                  temperature_range  1.129639e-04\n",
       "x24                             temperature_range_lag1 -1.857865e-04\n",
       "x25                   temperature_range_rolling_mean12  1.304143e-03\n",
       "x26                                          prcp_lag1  2.224016e-03\n",
       "x27                                        prcp_mean12  3.323254e-02\n",
       "x28             Total Renewable Energy Production_lag1 -4.055254e+00\n",
       "x29             Total Renewable Energy Production_lag2 -4.087828e+00\n",
       "x30             Total Renewable Energy Production_lag3 -4.245867e-02\n",
       "x31    Total Renewable Energy Production_rolling_mean3  1.190022e+01\n",
       "x32    Total Renewable Energy Production_rolling_mean6  2.659252e-02\n",
       "x33   Total Renewable Energy Production_rolling_mean12  4.699342e-01\n",
       "x34           energy_consumption_renewable_interaction -1.028682e-09\n",
       "x35         energy_consumption_traditional_interaction -3.845498e-12\n",
       "x36          energy_consumption_industrial_interaction  3.912491e-12\n",
       "x37                   Energy Consumption PCA Component -5.317873e-06\n",
       "x38                                        season_Fall -7.996447e-03\n",
       "x39                                      season_Spring  8.046624e-03\n",
       "x40                                      season_Summer  1.103099e-02\n",
       "x41                                      season_Winter  8.006301e-03\n",
       "x42                                            month_1  8.797028e-03\n",
       "x43                                            month_2  1.690176e-03\n",
       "x44                                            month_3  6.724242e-03\n",
       "x45                                            month_4 -1.071602e-03\n",
       "x46                                            month_5  2.393985e-03\n",
       "x47                                            month_6  6.204590e-04\n",
       "x48                                            month_7  8.203263e-03\n",
       "x49                                            month_8  2.207267e-03\n",
       "x50                                            month_9 -7.513654e-04\n",
       "x51                                           month_10 -4.816370e-03\n",
       "x52                                           month_11 -2.428711e-03\n",
       "x53                                           month_12 -2.480903e-03"
      ]
     },
     "execution_count": 73,
     "metadata": {},
     "output_type": "execute_result"
    }
   ],
   "source": [
    "feature_df"
   ]
  },
  {
   "cell_type": "code",
   "execution_count": null,
   "metadata": {},
   "outputs": [],
   "source": []
  }
 ],
 "metadata": {
  "colab": {
   "provenance": []
  },
  "kernelspec": {
   "display_name": "Python 3 (ipykernel)",
   "language": "python",
   "name": "python3"
  },
  "language_info": {
   "codemirror_mode": {
    "name": "ipython",
    "version": 3
   },
   "file_extension": ".py",
   "mimetype": "text/x-python",
   "name": "python",
   "nbconvert_exporter": "python",
   "pygments_lexer": "ipython3",
   "version": "3.9.12"
  }
 },
 "nbformat": 4,
 "nbformat_minor": 1
}
